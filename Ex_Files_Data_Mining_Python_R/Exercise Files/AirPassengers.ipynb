{
  "cells": [
    {
      "cell_type": "markdown",
      "metadata": {
        "id": "view-in-github",
        "colab_type": "text"
      },
      "source": [
        "<a href=\"https://colab.research.google.com/github/rwcitek/Data-Science-Foundations-Data-Mining-in-Python/blob/rwc-01/Ex_Files_Data_Mining_Python_R/Exercise%20Files/AirPassengers.ipynb\" target=\"_parent\"><img src=\"https://colab.research.google.com/assets/colab-badge.svg\" alt=\"Open In Colab\"/></a>"
      ]
    },
    {
      "cell_type": "markdown",
      "metadata": {
        "id": "GZYl6IGys0gb"
      },
      "source": [
        "# AIR PASSENGERS DATASET\n",
        "\n",
        "**File:** AirPassengers.ipynb\n",
        "\n",
        "**Course:** Data Science Foundations: Data Mining in Python"
      ]
    },
    {
      "cell_type": "markdown",
      "metadata": {
        "id": "txR8MnSIs0gd"
      },
      "source": [
        "# IMPORT LIBRARIES"
      ]
    },
    {
      "cell_type": "code",
      "execution_count": null,
      "metadata": {
        "id": "x9P3uDpPs0ge"
      },
      "outputs": [],
      "source": [
        "import pandas as pd\n",
        "import numpy as np\n",
        "from matplotlib import pyplot as plt\n",
        "from matplotlib.dates import DateFormatter\n",
        "from statsmodels.tsa.seasonal import seasonal_decompose"
      ]
    },
    {
      "cell_type": "markdown",
      "metadata": {
        "id": "WYJW2VYhs0gh"
      },
      "source": [
        "# LOAD AND PREPARE DATA\n",
        "\n",
        "For all three demonstrations of time-series analysis, we'll use the well-known `AirPassengers` dataset, which saved in the data folder as `AirPassengers.csv`. This datset is a monthly time series, which gives the monthly totals of international airline passengers (in thousands) from 1949 to 1960.\n",
        "\n",
        "## Data Source\n",
        "\n",
        "Box, G. E. P., Jenkins, G. M. and Reinsel, G. C. (1976) _Time Series Analysis, Forecasting and Control_. Third Edition. Holden-Day. Series G.\n"
      ]
    },
    {
      "cell_type": "markdown",
      "metadata": {
        "id": "DxRfRSaWs0gi"
      },
      "source": [
        "## Import Data\n",
        "\n",
        "- Start by seeing the raw data."
      ]
    },
    {
      "cell_type": "code",
      "execution_count": null,
      "metadata": {
        "id": "m3ox67V0s0gk"
      },
      "outputs": [],
      "source": [
        "pd.read_csv('data/AirPassengers.csv')"
      ]
    },
    {
      "cell_type": "markdown",
      "metadata": {
        "id": "5hbTCzIzs0gl"
      },
      "source": [
        "## Prepare Data\n",
        "\n",
        "- Import the data and parse the dates."
      ]
    },
    {
      "cell_type": "code",
      "execution_count": null,
      "metadata": {
        "id": "hoIfVrSqs0gm"
      },
      "outputs": [],
      "source": [
        "df = pd.read_csv('data/AirPassengers.csv', parse_dates=['Month'], index_col=['Month'])\n",
        "\n",
        "df.head()"
      ]
    },
    {
      "cell_type": "markdown",
      "metadata": {
        "id": "lKlapJYss0gn"
      },
      "source": [
        "# Describe Data\n",
        "\n",
        "- Get basic descriptive statistics."
      ]
    },
    {
      "cell_type": "code",
      "execution_count": null,
      "metadata": {
        "id": "wkGV4uSas0gn"
      },
      "outputs": [],
      "source": [
        "df.describe()"
      ]
    },
    {
      "cell_type": "markdown",
      "metadata": {
        "id": "hEHEqD6Fs0go"
      },
      "source": [
        "## Plot Data\n",
        "\n",
        "- Display the complete dataset."
      ]
    },
    {
      "cell_type": "code",
      "execution_count": null,
      "metadata": {
        "id": "1UmfNhz6s0go"
      },
      "outputs": [],
      "source": [
        "fig, ax = plt.subplots()\n",
        "plt.xlabel('Year: 1949-1960')\n",
        "plt.ylabel('Monthly Passengers (1000s)')\n",
        "plt.title('Monthly Intl Air Passengers')\n",
        "plt.plot(df, color='black')\n",
        "ax.xaxis.set_major_formatter(DateFormatter('%Y'))"
      ]
    },
    {
      "cell_type": "markdown",
      "metadata": {
        "id": "LTgKuFRFs0gp"
      },
      "source": [
        "# CLEAN UP\n",
        "\n",
        "- If desired, clear the results with Cell > All Output > Clear.\n",
        "- Save your work by selecting File > Save and Checkpoint.\n",
        "- Shut down the Python kernel and close the file by selecting File > Close and Halt."
      ]
    }
  ],
  "metadata": {
    "kernelspec": {
      "display_name": "Python 3",
      "language": "python",
      "name": "python3"
    },
    "language_info": {
      "codemirror_mode": {
        "name": "ipython",
        "version": 3
      },
      "file_extension": ".py",
      "mimetype": "text/x-python",
      "name": "python",
      "nbconvert_exporter": "python",
      "pygments_lexer": "ipython3",
      "version": "3.7.9"
    },
    "colab": {
      "provenance": [],
      "include_colab_link": true
    }
  },
  "nbformat": 4,
  "nbformat_minor": 0
}